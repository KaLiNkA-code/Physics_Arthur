{
 "cells": [
  {
   "attachments": {},
   "cell_type": "markdown",
   "metadata": {},
   "source": [
    "# Анализ деформации мяча при ударе с использованием пьезодатчика."
   ]
  },
  {
   "attachments": {},
   "cell_type": "markdown",
   "metadata": {},
   "source": [
    "----------------------------------\n"
   ]
  },
  {
   "attachments": {},
   "cell_type": "markdown",
   "metadata": {},
   "source": [
    "\n",
    "##### Пьезодатчик - это устройство, которое преобразует механическое напряжение (в нашем случае из-за удара) в электрическое напряжение. Измеряя это электрическое напряжение, мы можем определить ускорение, скорость и перемещение мяча со временем в процессе удара."
   ]
  },
  {
   "attachments": {},
   "cell_type": "markdown",
   "metadata": {},
   "source": [
    "## Я определю базовый класс, после чего буду вызывать каждый метод и пояснять его"
   ]
  },
  {
   "cell_type": "code",
   "execution_count": 10,
   "metadata": {},
   "outputs": [],
   "source": [
    "import numpy as np\n",
    "import matplotlib.pyplot as plt\n",
    "from typing import Union\n",
    "\n",
    "\n",
    "class BallDeformationAnalysis:\n",
    "    def __init__(self, K: float, time_step: float, voltages: Union[list, tuple]) -> None:\n",
    "        \"\"\"\n",
    "        Инициализация класса и его атрибутов\n",
    "        \"\"\"\n",
    "        self.K = K  # калибровочная постоянная пьезодатчика\n",
    "        self.time_step = time_step  # временной интервал между измерениями\n",
    "        self.voltages = np.array(voltages)  # значения напряжений, измеренные пьезодатчиком\n",
    "        \n",
    "    def acceleration(self) -> float:\n",
    "        \"\"\"\n",
    "        Функция находит скорость ускорения мяча\n",
    "        \"\"\"\n",
    "        return self.K * self.voltages\n",
    "\n",
    "    def total_speed(self) -> float:\n",
    "        \"\"\"\n",
    "        Функция находит влияние каждого ускорения на скорость (мяча)\n",
    "        \"\"\"\n",
    "        a = self.acceleration()\n",
    "        return np.cumsum(a) * self.time_step\n",
    "\n",
    "    def displacement(self):\n",
    "        \"\"\"\n",
    "        Функция находит насколько пройденное расстояние после всех толчков\n",
    "        \"\"\"\n",
    "        v = self.total_speed()\n",
    "        return np.cumsum(v) * self.time_step\n",
    "\n",
    "    def get_displacement_at_time(self, time):\n",
    "        \"\"\"\n",
    "        Возвращает положение мяча в конкретный момент времени.\n",
    "        \"\"\"\n",
    "        index = time // self.time_step\n",
    "        return self.displacement()[index]\n",
    "\n",
    "    def plot_displacement_vs_time(self):\n",
    "        \"\"\"\n",
    "        Рисуем график зависимости расстояния со временем\n",
    "        \"\"\"\n",
    "        times = np.arange(0, len(self.voltages)*self.time_step, self.time_step)\n",
    "        s = self.displacement()\n",
    "        \n",
    "        plt.plot(times, s)\n",
    "        plt.xlabel('Time (s)')\n",
    "        plt.ylabel('Distance (m)')\n",
    "        plt.title('зависимость перемещения центра масс от времени')\n",
    "        plt.grid(True)\n",
    "        plt.show()\n",
    "\n",
    "    def plot_total_speed_vs_time(self):\n",
    "        times = np.arange(0, len(self.voltages)*self.time_step, self.time_step)\n",
    "        v = self.total_speed()\n",
    "        \n",
    "        plt.plot(times, v)\n",
    "        plt.xlabel('Time (s)')\n",
    "        plt.ylabel('Skorostь (m/s)')\n",
    "        plt.title('Зависимость скорости от времени')\n",
    "        plt.grid(True)\n",
    "        plt.show()\n"
   ]
  },
  {
   "attachments": {},
   "cell_type": "markdown",
   "metadata": {},
   "source": [
    "-----------------"
   ]
  },
  {
   "attachments": {},
   "cell_type": "markdown",
   "metadata": {},
   "source": [
    "# Инициализация класса & переменных\n",
    "##### Для начала давайте зададим переменные, которые будут использоваться в коде. Они вариативны так что при дальнейшем тестировании можно их изменить"
   ]
  },
  {
   "cell_type": "code",
   "execution_count": 12,
   "metadata": {},
   "outputs": [],
   "source": [
    "K = 992384.7\n",
    "time_step = 0.01\n",
    "voltages = [0.001, 0.930, 1.008, 0.186, 0.124, 0.093, 0.062, 0.016, 0.008, 0.002, 0.001]\n",
    "\n",
    "analysis = BallDeformationAnalysis(K, time_step, voltages)"
   ]
  },
  {
   "attachments": {},
   "cell_type": "markdown",
   "metadata": {},
   "source": [
    "---------------"
   ]
  },
  {
   "attachments": {},
   "cell_type": "markdown",
   "metadata": {},
   "source": [
    "## acceleration\n",
    "##### Напряжение на датчике говорит нам, насколько сильно мяч ускоряется. Формула просто превращает напряжение в число, которое нам говорит о скорости ускорения мяча."
   ]
  },
  {
   "cell_type": "code",
   "execution_count": null,
   "metadata": {},
   "outputs": [],
   "source": [
    "result = analysis.acceleration()\n",
    "print(result)"
   ]
  },
  {
   "attachments": {},
   "cell_type": "markdown",
   "metadata": {},
   "source": [
    "----------------"
   ]
  },
  {
   "attachments": {},
   "cell_type": "markdown",
   "metadata": {},
   "source": [
    "\n",
    "## total_speed\n",
    "##### Простыми словами на примере, что делает эта функция: \n",
    "##### Если представить ускорение как толчок велосипеда, то скорость — это насколько быстро вы едете после всех толчков. Мы просто смотрим, как каждый толчок (или ускорение) менял скорость мяча со временем."
   ]
  },
  {
   "cell_type": "code",
   "execution_count": null,
   "metadata": {},
   "outputs": [],
   "source": [
    "result = analysis.total_speed()\n",
    "print(result)"
   ]
  },
  {
   "attachments": {},
   "cell_type": "markdown",
   "metadata": {},
   "source": [
    "------------------"
   ]
  },
  {
   "attachments": {},
   "cell_type": "markdown",
   "metadata": {},
   "source": [
    "## displacement\n",
    "##### Представьте, что вы едете на велосипеде. Эта функция говорит нам, насколько далеко вы уехали после всех толчков."
   ]
  },
  {
   "cell_type": "code",
   "execution_count": null,
   "metadata": {},
   "outputs": [],
   "source": [
    "result = analysis.displacement()\n",
    "print(result)"
   ]
  },
  {
   "attachments": {},
   "cell_type": "markdown",
   "metadata": {},
   "source": [
    "-----------------\n"
   ]
  },
  {
   "attachments": {},
   "cell_type": "markdown",
   "metadata": {},
   "source": [
    "## get_displacement_at_time\n",
    "##### Возвращает положение мяча в конкретный момент времени.\n",
    "##### Пример получения положения мяча в момент времени 0.04 секунды"
   ]
  },
  {
   "cell_type": "code",
   "execution_count": null,
   "metadata": {},
   "outputs": [],
   "source": [
    "\n",
    "result = analysis.get_displacement_at_time(0.04)\n",
    "print(result)"
   ]
  },
  {
   "attachments": {},
   "cell_type": "markdown",
   "metadata": {},
   "source": [
    "----------------"
   ]
  },
  {
   "attachments": {},
   "cell_type": "markdown",
   "metadata": {},
   "source": [
    "### Теперь строем просто 2 графика, зависимость рассотояния от времени + скорости от времени "
   ]
  },
  {
   "cell_type": "code",
   "execution_count": null,
   "metadata": {},
   "outputs": [],
   "source": [
    "analysis.plot_displacement_vs_time()"
   ]
  }
 ],
 "metadata": {
  "kernelspec": {
   "display_name": "Python 3",
   "language": "python",
   "name": "python3"
  },
  "language_info": {
   "codemirror_mode": {
    "name": "ipython",
    "version": 3
   },
   "file_extension": ".py",
   "mimetype": "text/x-python",
   "name": "python",
   "nbconvert_exporter": "python",
   "pygments_lexer": "ipython3",
   "version": "3.9.6"
  },
  "orig_nbformat": 4
 },
 "nbformat": 4,
 "nbformat_minor": 2
}
